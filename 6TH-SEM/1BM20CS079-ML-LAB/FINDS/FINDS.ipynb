{
  "nbformat": 4,
  "nbformat_minor": 0,
  "metadata": {
    "colab": {
      "provenance": []
    },
    "kernelspec": {
      "name": "python3",
      "display_name": "Python 3"
    },
    "language_info": {
      "name": "python"
    }
  },
  "cells": [
    {
      "cell_type": "code",
      "execution_count": null,
      "metadata": {
        "id": "K8YUoTIbOpLR"
      },
      "outputs": [],
      "source": [
        "import numpy as np\n",
        "import pandas as pd"
      ]
    },
    {
      "cell_type": "code",
      "source": [
        "from google.colab import drive\n",
        "drive.mount(\"/content/drive\")"
      ],
      "metadata": {
        "colab": {
          "base_uri": "https://localhost:8080/"
        },
        "id": "o36L0YUAO60q",
        "outputId": "d7cf60d5-ac15-4b61-8b3a-5f9d05ee09bb"
      },
      "execution_count": null,
      "outputs": [
        {
          "output_type": "stream",
          "name": "stdout",
          "text": [
            "Mounted at /content/drive\n"
          ]
        }
      ]
    },
    {
      "cell_type": "code",
      "source": [
        "path =\"/content/drive/MyDrive/ML-LAB-MD/enjoySport.csv\""
      ],
      "metadata": {
        "id": "RtA2GBx_O7qu"
      },
      "execution_count": null,
      "outputs": []
    },
    {
      "cell_type": "code",
      "source": [
        "data = pd.read_csv(path)"
      ],
      "metadata": {
        "id": "K-GIqJUxQe7h"
      },
      "execution_count": null,
      "outputs": []
    },
    {
      "cell_type": "code",
      "source": [
        "print(data,\"\\n\")"
      ],
      "metadata": {
        "colab": {
          "base_uri": "https://localhost:8080/"
        },
        "id": "XcMxG24YQhbl",
        "outputId": "f9d28b4b-250a-4539-e359-691986739ea2"
      },
      "execution_count": null,
      "outputs": [
        {
          "output_type": "stream",
          "name": "stdout",
          "text": [
            "     sky  temp humidity    wind water forecast enjoy_sport enjoy_sport.1\n",
            "0  sunny  warm   normal  strong  warm     same         yes           yes\n",
            "1  sunny  warm     high  strong  warm     same         yes           yes\n",
            "2  rainy  cold     high  strong  warm   change          no            no\n",
            "3  sunny  warm     high  strong  cool   change         yes           yes \n",
            "\n"
          ]
        }
      ]
    },
    {
      "cell_type": "code",
      "source": [
        "d = np.array(data)[:,:-1]\n",
        "print(\"\\n The attributes are: \",d)"
      ],
      "metadata": {
        "colab": {
          "base_uri": "https://localhost:8080/"
        },
        "id": "2cX8M6Rh98sh",
        "outputId": "a4f0fa17-f3da-4020-c92f-8f4be991f8d5"
      },
      "execution_count": 18,
      "outputs": [
        {
          "output_type": "stream",
          "name": "stdout",
          "text": [
            "\n",
            " The attributes are:  [['sunny' 'warm' 'normal' 'strong' 'warm' 'same' 'yes']\n",
            " ['sunny' 'warm' 'high' 'strong' 'warm' 'same' 'yes']\n",
            " ['rainy' 'cold' 'high' 'strong' 'warm' 'change' 'no']\n",
            " ['sunny' 'warm' 'high' 'strong' 'cool' 'change' 'yes']]\n"
          ]
        }
      ]
    },
    {
      "cell_type": "code",
      "source": [
        "target = np.array(data)[:,-1]\n",
        "print(\"\\n The target is: \",target)"
      ],
      "metadata": {
        "colab": {
          "base_uri": "https://localhost:8080/"
        },
        "id": "P7WWuWgiffZS",
        "outputId": "b42016b9-7984-4fd4-ef29-4d3a36538d7a"
      },
      "execution_count": 19,
      "outputs": [
        {
          "output_type": "stream",
          "name": "stdout",
          "text": [
            "\n",
            " The target is:  ['yes' 'yes' 'no' 'yes']\n"
          ]
        }
      ]
    },
    {
      "cell_type": "code",
      "source": [
        "def findS(c,t):\n",
        "    for i, val in enumerate(t):\n",
        "        if val == \"yes\":\n",
        "            specific_hypothesis = c[i].copy()\n",
        "            break\n",
        "    for i, val in enumerate(c):\n",
        "        if t[i] == \"yes\":\n",
        "            for x in range(len(specific_hypothesis)):\n",
        "                if val[x] != specific_hypothesis[x]:\n",
        "                    specific_hypothesis[x] = '?'\n",
        "                else:\n",
        "                    pass\n",
        "\n",
        "    return specific_hypothesis\n",
        "print(\"\\n The final hypothesis is:\",findS(d,target))\n"
      ],
      "metadata": {
        "colab": {
          "base_uri": "https://localhost:8080/"
        },
        "id": "MJIk64y2RIlj",
        "outputId": "38cb5284-334b-448e-e142-ab721da8a2c7"
      },
      "execution_count": 21,
      "outputs": [
        {
          "output_type": "stream",
          "name": "stdout",
          "text": [
            "\n",
            " The final hypothesis is: ['sunny' 'warm' '?' 'strong' '?' '?' 'yes']\n",
            "\n",
            "Predicted targets: ['Yes', 'Yes', 'No', 'Yes']\n",
            "\n",
            "Accuracy: 0.0\n"
          ]
        }
      ]
    },
    {
      "cell_type": "code",
      "source": [
        "#2ND QUESTION"
      ],
      "metadata": {
        "id": "whLfpq7gfRGS"
      },
      "execution_count": null,
      "outputs": []
    },
    {
      "cell_type": "code",
      "source": [
        "path =\"/content/drive/MyDrive/ML-LAB-MD/buy.csv\""
      ],
      "metadata": {
        "id": "xA3gwKT3krGA"
      },
      "execution_count": 22,
      "outputs": []
    },
    {
      "cell_type": "code",
      "source": [
        "data = pd.read_csv(path)"
      ],
      "metadata": {
        "id": "RtpBs_VskrGK"
      },
      "execution_count": 23,
      "outputs": []
    },
    {
      "cell_type": "code",
      "source": [
        "print(data,\"\\n\")"
      ],
      "metadata": {
        "colab": {
          "base_uri": "https://localhost:8080/"
        },
        "outputId": "7d5c0032-5a78-4e74-d7b5-99abcdaf7a9b",
        "id": "kIIoSJctkrGK"
      },
      "execution_count": 24,
      "outputs": [
        {
          "output_type": "stream",
          "name": "stdout",
          "text": [
            "  citations    size inLibrary       price editions  buy\n",
            "0      some   small        no  affordable     many   no\n",
            "1      many     big        no   expensive      one  yes\n",
            "2      some     big    always   expensive      few   no\n",
            "3      many  medium        no   expensive     many  yes\n",
            "4      many   small        no  affordable     many  yes \n",
            "\n"
          ]
        }
      ]
    },
    {
      "cell_type": "code",
      "source": [
        "d = np.array(data)[:,:5]\n",
        "print(\"\\n The attributes are: \",d)"
      ],
      "metadata": {
        "colab": {
          "base_uri": "https://localhost:8080/"
        },
        "outputId": "b2b4558f-2c22-4274-d33d-ae35d60fc71a",
        "id": "UfEQVoWXkrGK"
      },
      "execution_count": 25,
      "outputs": [
        {
          "output_type": "stream",
          "name": "stdout",
          "text": [
            "\n",
            " The attributes are:  [['some' 'small' 'no' 'affordable' 'many']\n",
            " ['many' 'big' 'no' 'expensive' 'one']\n",
            " ['some' 'big' 'always' 'expensive' 'few']\n",
            " ['many' 'medium' 'no' 'expensive' 'many']\n",
            " ['many' 'small' 'no' 'affordable' 'many']]\n"
          ]
        }
      ]
    },
    {
      "cell_type": "code",
      "source": [
        "target = np.array(data)[:,-1]\n",
        "print(\"\\n The target is: \",target)"
      ],
      "metadata": {
        "colab": {
          "base_uri": "https://localhost:8080/"
        },
        "outputId": "9ecee5df-36c5-4b60-ad15-b6ee32e54792",
        "id": "npw9gWsekrGK"
      },
      "execution_count": 26,
      "outputs": [
        {
          "output_type": "stream",
          "name": "stdout",
          "text": [
            "\n",
            " The target is:  ['no' 'yes' 'no' 'yes' 'yes']\n"
          ]
        }
      ]
    },
    {
      "cell_type": "code",
      "source": [
        "def findS(c,t):\n",
        "    for i, val in enumerate(t):\n",
        "        if val == \"yes\":\n",
        "            specific_hypothesis = c[i].copy()\n",
        "            break\n",
        "    for i, val in enumerate(c):\n",
        "        if t[i] == \"yes\":\n",
        "            for x in range(len(specific_hypothesis)):\n",
        "                if val[x] != specific_hypothesis[x]:\n",
        "                    specific_hypothesis[x] = '?'\n",
        "                else:\n",
        "                    pass\n",
        "    return specific_hypothesis\n",
        "hypothesis = findS(d, target)\n",
        "print(\"\\n The final hypothesis is:\",hypothesis)\n",
        "\n",
        "def predict(data, hypothesis):\n",
        "    predicted_targets = []\n",
        "    for instance in data:\n",
        "        match = True\n",
        "        for i in range(len(hypothesis)):\n",
        "            if hypothesis[i] != '?' and hypothesis[i] != instance[i]:\n",
        "                match = False\n",
        "                break\n",
        "        if match:\n",
        "            predicted_targets.append(\"Yes\")\n",
        "        else:\n",
        "            predicted_targets.append(\"No\")\n",
        "    return predicted_targets\n",
        "\n",
        "\n",
        "predicted_targets = predict(d, hypothesis)\n",
        "print(\"\\nPredicted targets:\", predicted_targets)\n",
        "\n",
        "\n",
        "def calculate_accuracy(actual, predicted):\n",
        "    correct = sum(1 for a, p in zip(actual, predicted) if a == p)\n",
        "    total = len(actual)\n",
        "    accuracy = correct / total * 100\n",
        "    return accuracy\n",
        "\n",
        "\n",
        "accuracy = calculate_accuracy(target, predicted_targets)\n",
        "print(\"\\nAccuracy:\", accuracy)\n"
      ],
      "metadata": {
        "colab": {
          "base_uri": "https://localhost:8080/"
        },
        "outputId": "166167fe-3de2-4160-f25a-43f4caad8d07",
        "id": "gT4Fs0DOkrGL"
      },
      "execution_count": 27,
      "outputs": [
        {
          "output_type": "stream",
          "name": "stdout",
          "text": [
            "\n",
            " The final hypothesis is: ['many' '?' 'no' '?' '?']\n",
            "\n",
            "Predicted targets: ['No', 'Yes', 'No', 'Yes', 'Yes']\n",
            "\n",
            "Accuracy: 0.0\n"
          ]
        }
      ]
    },
    {
      "cell_type": "code",
      "source": [
        "\n",
        "def predict(data, hypothesis):\n",
        "    predicted_targets = []\n",
        "    for instance in data:\n",
        "        match = True\n",
        "        for i in range(len(hypothesis)):\n",
        "            if hypothesis[i] != '?' and hypothesis[i] != instance[i]:\n",
        "                match = False\n",
        "                break\n",
        "        if match:\n",
        "            predicted_targets.append(\"yes\")\n",
        "        else:\n",
        "            predicted_targets.append(\"no\")\n",
        "    return predicted_targets\n",
        "\n",
        "\n",
        "predicted_targets = predict(d, hypothesis)\n",
        "print(\"\\nPredicted targets:\", predicted_targets)\n",
        "\n",
        "\n",
        "def calculate_accuracy(actual, predicted):\n",
        "    correct = sum(1 for a, p in zip(actual, predicted) if a == p)\n",
        "    total = len(actual)\n",
        "    accuracy = correct / total * 100\n",
        "    return accuracy\n",
        "\n",
        "\n",
        "accuracy = calculate_accuracy(target, predicted_targets)\n",
        "print(\"\\nAccuracy:\", accuracy)\n"
      ],
      "metadata": {
        "colab": {
          "base_uri": "https://localhost:8080/"
        },
        "id": "T5HNl0nAEoyw",
        "outputId": "f2c5d8f5-3c85-4a58-baae-79001b9554f3"
      },
      "execution_count": 13,
      "outputs": [
        {
          "output_type": "stream",
          "name": "stdout",
          "text": [
            "\n",
            "Predicted targets: ['Yes', 'Yes', 'No', 'Yes']\n",
            "\n",
            "Accuracy: 0.0\n"
          ]
        }
      ]
    },
    {
      "cell_type": "markdown",
      "source": [
        "FINDS ACCURACY\n"
      ],
      "metadata": {
        "id": "r03iaBEY0U_C"
      }
    },
    {
      "cell_type": "code",
      "source": [
        "import numpy as np\n",
        "import pandas as pd\n",
        "from google.colab import drive\n",
        "drive.mount(\"/content/drive\")\n",
        "path = \"/content/drive/MyDrive/ML-LAB-MD/enjoySportMD.csv\"\n",
        "data = pd.read_csv(path)\n",
        "print(data, \"\\n\")\n",
        "\n",
        "d = np.array(data)[:, :-1]\n",
        "print(\"\\nThe attributes are:\", d)\n",
        "\n",
        "target = np.array(data)[:, -1]\n",
        "print(\"\\nThe target is:\", target)\n",
        "\n",
        "\n",
        "def findS(c, t):\n",
        "    for i, val in enumerate(t):\n",
        "        if val == \"yes\":\n",
        "            specifics_hypothesis = c[i].copy()\n",
        "            break\n",
        "\n",
        "    for i, val in enumerate(c):\n",
        "        if t[i] == \"yes\":\n",
        "            for x in range(len(specifics_hypothesis)):\n",
        "                if val[x] != specifics_hypothesis[x]:\n",
        "                    specifics_hypothesis[x] = '?'\n",
        "                else:\n",
        "                    pass\n",
        "\n",
        "    return specifics_hypothesis\n",
        "\n",
        "\n",
        "hypothesis = findS(d, target)\n",
        "print(\"\\nThe final hypothesis is:\", hypothesis)\n",
        "\n",
        "\n",
        "def predict(data, hypothesis):\n",
        "    predicted_targets = []\n",
        "    for instance in data:\n",
        "        match = True\n",
        "        for i in range(len(hypothesis)):\n",
        "            if hypothesis[i] != '?' and hypothesis[i] != instance[i]:\n",
        "                match = False\n",
        "                break\n",
        "        if match:\n",
        "            predicted_targets.append(\"yes\")\n",
        "        else:\n",
        "            predicted_targets.append(\"no\")\n",
        "    return predicted_targets\n",
        "\n",
        "\n",
        "predicted_targets = predict(d, hypothesis)\n",
        "print(\"\\nPredicted targets:\", predicted_targets)\n",
        "\n",
        "\n",
        "def calculate_accuracy(actual, predicted):\n",
        "    correct = sum(1 for a, p in zip(actual, predicted) if a == p)\n",
        "    total = len(actual)\n",
        "    accuracy = correct / total * 100\n",
        "    return accuracy\n",
        "\n",
        "\n",
        "accuracy = calculate_accuracy(target, predicted_targets)\n",
        "print(\"\\nAccuracy:\", accuracy)\n"
      ],
      "metadata": {
        "id": "9MoCBRzOk1lp",
        "colab": {
          "base_uri": "https://localhost:8080/"
        },
        "outputId": "b8c16070-b033-414a-a873-c765d2124cb9"
      },
      "execution_count": 1,
      "outputs": [
        {
          "output_type": "stream",
          "name": "stdout",
          "text": [
            "Mounted at /content/drive\n",
            "     sky  temp humidity    wind water forecast enjoy_sport enjoy_sport.1\n",
            "0  sunny  warm   normal  strong  warm     same         yes           yes\n",
            "1  sunny  warm     high  strong  warm     same         yes           yes\n",
            "2  rainy  cold     high  strong  warm   change          no            no\n",
            "3  sunny  warm     high  strong  cool   change         yes           yes \n",
            "\n",
            "\n",
            "The attributes are: [['sunny' 'warm' 'normal' 'strong' 'warm' 'same' 'yes']\n",
            " ['sunny' 'warm' 'high' 'strong' 'warm' 'same' 'yes']\n",
            " ['rainy' 'cold' 'high' 'strong' 'warm' 'change' 'no']\n",
            " ['sunny' 'warm' 'high' 'strong' 'cool' 'change' 'yes']]\n",
            "\n",
            "The target is: ['yes' 'yes' 'no' 'yes']\n",
            "\n",
            "The final hypothesis is: ['sunny' 'warm' '?' 'strong' '?' '?' 'yes']\n",
            "\n",
            "Predicted targets: ['yes', 'yes', 'no', 'yes']\n",
            "\n",
            "Accuracy: 100.0\n"
          ]
        }
      ]
    },
    {
      "cell_type": "code",
      "source": [],
      "metadata": {
        "id": "zZKSNPxe0uRH"
      },
      "execution_count": null,
      "outputs": []
    }
  ]
}