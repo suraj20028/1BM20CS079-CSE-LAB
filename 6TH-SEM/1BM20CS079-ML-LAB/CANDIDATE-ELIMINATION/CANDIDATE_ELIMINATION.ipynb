{
  "nbformat": 4,
  "nbformat_minor": 0,
  "metadata": {
    "colab": {
      "provenance": []
    },
    "kernelspec": {
      "name": "python3",
      "display_name": "Python 3"
    },
    "language_info": {
      "name": "python"
    }
  },
  "cells": [
    {
      "cell_type": "code",
      "execution_count": null,
      "metadata": {
        "id": "qN9spu05KFPJ"
      },
      "outputs": [],
      "source": [
        "import numpy as np\n",
        "import pandas as pd\n"
      ]
    },
    {
      "cell_type": "code",
      "source": [
        "\n",
        "from google.colab import drive\n",
        "drive.mount('/content/drive')"
      ],
      "metadata": {
        "colab": {
          "base_uri": "https://localhost:8080/"
        },
        "id": "QQZx2TFpKJsA",
        "outputId": "5ab829fc-c74c-4fcd-bbdc-2b40c8ef2e67"
      },
      "execution_count": null,
      "outputs": [
        {
          "output_type": "stream",
          "name": "stdout",
          "text": [
            "Drive already mounted at /content/drive; to attempt to forcibly remount, call drive.mount(\"/content/drive\", force_remount=True).\n"
          ]
        }
      ]
    },
    {
      "cell_type": "code",
      "source": [
        "\n",
        "data = pd.DataFrame(data=pd.read_csv('/content/drive/MyDrive/ML-LAB-MD/enjoySport.csv'))\n"
      ],
      "metadata": {
        "id": "FBt_94sSKKuE"
      },
      "execution_count": null,
      "outputs": []
    },
    {
      "cell_type": "code",
      "source": [
        "print(data,\"\\n\")"
      ],
      "metadata": {
        "id": "FE6m10A7K4HS",
        "colab": {
          "base_uri": "https://localhost:8080/"
        },
        "outputId": "5fa46feb-5115-411d-da9e-923a3d033946"
      },
      "execution_count": null,
      "outputs": [
        {
          "output_type": "stream",
          "name": "stdout",
          "text": [
            "     sky  temp humidity    wind water forecast enjoy_sport enjoy_sport.1\n",
            "0  sunny  warm   normal  strong  warm     same         yes           yes\n",
            "1  sunny  warm     high  strong  warm     same         yes           yes\n",
            "2  rainy  cold     high  strong  warm   change          no            no\n",
            "3  sunny  warm     high  strong  cool   change         yes           yes \n",
            "\n"
          ]
        }
      ]
    },
    {
      "cell_type": "code",
      "source": [
        "\n",
        "concepts = np.array(data.iloc[:,0:6])"
      ],
      "metadata": {
        "id": "DlfmvsoMK7fT"
      },
      "execution_count": null,
      "outputs": []
    },
    {
      "cell_type": "code",
      "source": [
        "print(\"The attributes are: \",concepts)"
      ],
      "metadata": {
        "id": "ti1v4W8SLFW-",
        "colab": {
          "base_uri": "https://localhost:8080/"
        },
        "outputId": "2af90f5b-646e-4264-fd94-50ee7900b51e"
      },
      "execution_count": null,
      "outputs": [
        {
          "output_type": "stream",
          "name": "stdout",
          "text": [
            "The attributes are:  [['sunny' 'warm' 'normal' 'strong' 'warm' 'same']\n",
            " ['sunny' 'warm' 'high' 'strong' 'warm' 'same']\n",
            " ['rainy' 'cold' 'high' 'strong' 'warm' 'change']\n",
            " ['sunny' 'warm' 'high' 'strong' 'cool' 'change']]\n"
          ]
        }
      ]
    },
    {
      "cell_type": "code",
      "source": [
        "target = np.array(data.iloc[:,-1])"
      ],
      "metadata": {
        "id": "HjU8wuH2LG2A"
      },
      "execution_count": null,
      "outputs": []
    },
    {
      "cell_type": "code",
      "source": [
        "print(\"\\n The target is: \",target)"
      ],
      "metadata": {
        "id": "YUhKPFXdLKvf",
        "colab": {
          "base_uri": "https://localhost:8080/"
        },
        "outputId": "52d58d9f-10d7-41a6-97c8-bcad49306e8c"
      },
      "execution_count": null,
      "outputs": [
        {
          "output_type": "stream",
          "name": "stdout",
          "text": [
            "\n",
            " The target is:  ['yes' 'yes' 'no' 'yes']\n"
          ]
        }
      ]
    },
    {
      "cell_type": "code",
      "source": [
        "import csv\n"
      ],
      "metadata": {
        "id": "NiYpuQT0LNXx"
      },
      "execution_count": null,
      "outputs": []
    },
    {
      "cell_type": "code",
      "source": [
        "with open(\"/content/drive/MyDrive/ML-LAB-MD/enjoySport.csv\") as f:\n",
        "    csv_file = csv.reader(f)\n",
        "    data = list(csv_file)\n",
        "\n",
        "    specific = data[1][:-2]\n",
        "    general = [['?' for i in range(len(specific))] for j in range(len(specific))]\n",
        "\n",
        "    for i in data:\n",
        "        if i[-1] == \"yes\":\n",
        "            for j in range(len(specific)):\n",
        "                if i[j] != specific[j]:\n",
        "                    specific[j] = \"?\"\n",
        "                    general[j][j] = \"?\"\n",
        "\n",
        "        elif i[-1] == \"no\":\n",
        "            for j in range(len(specific)):\n",
        "                if i[j] != specific[j]:\n",
        "                    general[j][j] = specific[j]\n",
        "                else:\n",
        "                    general[j][j] = \"?\"\n",
        "\n",
        "        print(\"\\nStep \" + str(data.index(i)) + \" of Candidate Elimination Algorithm\")\n",
        "        print(specific)\n",
        "        print(general)\n",
        "\n",
        "    gh = [] # gh = general Hypothesis\n",
        "    for i in general:\n",
        "        for j in i:\n",
        "            if j != '?':\n",
        "                gh.append(i)\n",
        "                break\n",
        "    print(\"\\nFinal Specific hypothesis:\\n\", specific)\n",
        "    print(\"\\nFinal General hypothesis:\\n\", gh)"
      ],
      "metadata": {
        "id": "IpsiFw-1Laj1",
        "colab": {
          "base_uri": "https://localhost:8080/"
        },
        "outputId": "56224716-ed48-413d-e18d-83d42d1425bb"
      },
      "execution_count": null,
      "outputs": [
        {
          "output_type": "stream",
          "name": "stdout",
          "text": [
            "\n",
            "Step 0 of Candidate Elimination Algorithm\n",
            "['sunny', 'warm', 'normal', 'strong', 'warm', 'same']\n",
            "[['?', '?', '?', '?', '?', '?'], ['?', '?', '?', '?', '?', '?'], ['?', '?', '?', '?', '?', '?'], ['?', '?', '?', '?', '?', '?'], ['?', '?', '?', '?', '?', '?'], ['?', '?', '?', '?', '?', '?']]\n",
            "\n",
            "Step 1 of Candidate Elimination Algorithm\n",
            "['sunny', 'warm', 'normal', 'strong', 'warm', 'same']\n",
            "[['?', '?', '?', '?', '?', '?'], ['?', '?', '?', '?', '?', '?'], ['?', '?', '?', '?', '?', '?'], ['?', '?', '?', '?', '?', '?'], ['?', '?', '?', '?', '?', '?'], ['?', '?', '?', '?', '?', '?']]\n",
            "\n",
            "Step 2 of Candidate Elimination Algorithm\n",
            "['sunny', 'warm', '?', 'strong', 'warm', 'same']\n",
            "[['?', '?', '?', '?', '?', '?'], ['?', '?', '?', '?', '?', '?'], ['?', '?', '?', '?', '?', '?'], ['?', '?', '?', '?', '?', '?'], ['?', '?', '?', '?', '?', '?'], ['?', '?', '?', '?', '?', '?']]\n",
            "\n",
            "Step 3 of Candidate Elimination Algorithm\n",
            "['sunny', 'warm', '?', 'strong', 'warm', 'same']\n",
            "[['sunny', '?', '?', '?', '?', '?'], ['?', 'warm', '?', '?', '?', '?'], ['?', '?', '?', '?', '?', '?'], ['?', '?', '?', '?', '?', '?'], ['?', '?', '?', '?', '?', '?'], ['?', '?', '?', '?', '?', 'same']]\n",
            "\n",
            "Step 4 of Candidate Elimination Algorithm\n",
            "['sunny', 'warm', '?', 'strong', '?', '?']\n",
            "[['sunny', '?', '?', '?', '?', '?'], ['?', 'warm', '?', '?', '?', '?'], ['?', '?', '?', '?', '?', '?'], ['?', '?', '?', '?', '?', '?'], ['?', '?', '?', '?', '?', '?'], ['?', '?', '?', '?', '?', '?']]\n",
            "\n",
            "Final Specific hypothesis:\n",
            " ['sunny', 'warm', '?', 'strong', '?', '?']\n",
            "\n",
            "Final General hypothesis:\n",
            " [['sunny', '?', '?', '?', '?', '?'], ['?', 'warm', '?', '?', '?', '?']]\n"
          ]
        }
      ]
    },
    {
      "cell_type": "code",
      "source": [
        "def learn(concepts, target):\n",
        "    specific_h = concepts[0].copy()\n",
        "    general_h = [[\"?\" for i in range(len(specific_h))] for i in range(len(specific_h))]\n",
        "    print(\"Step 0:\")\n",
        "    print(\"Specific Hypothesis: \", specific_h)\n",
        "    print(\"General Hypothesis: \", general_h)\n",
        "    print(\"--------------------\")\n",
        "    for i, h in enumerate(concepts):\n",
        "        if target[i] == \"yes\":\n",
        "            for x in range(len(specific_h)):\n",
        "                if h[x] != specific_h[x]:\n",
        "                    specific_h[x] = '?'\n",
        "                    general_h[x][x] = '?'\n",
        "        if target[i] == \"no\":\n",
        "            for x in range(len(specific_h)):\n",
        "                if h[x] != specific_h[x]:\n",
        "                    general_h[x][x] = specific_h[x]\n",
        "                else:\n",
        "                    general_h[x][x] = '?'\n",
        "        print(\"Step\", i+1, \":\")\n",
        "        print(\"Specific Hypothesis: \", specific_h)\n",
        "        print(\"General Hypothesis: \", general_h)\n",
        "        print(\"--------------------\")\n",
        "    indices = [i for i,val in enumerate(general_h) if val == ['?', '?', '?', '?', '?', '?']]\n",
        "    for i in indices:\n",
        "        general_h.remove(['?', '?', '?', '?', '?', '?'])\n",
        "    return specific_h, general_h\n",
        "\n",
        "\n",
        "s_final, g_final = learn(concepts, target)\n",
        "print(\"Final S:\", s_final, sep=\"\\n\")\n",
        "print(\"Final G:\", g_final, sep=\"\\n\")\n"
      ],
      "metadata": {
        "id": "Re2wDh1mMq8N",
        "colab": {
          "base_uri": "https://localhost:8080/"
        },
        "outputId": "398ab2bb-356f-4090-b6d9-1357d3c9b93d"
      },
      "execution_count": null,
      "outputs": [
        {
          "output_type": "stream",
          "name": "stdout",
          "text": [
            "Step 0:\n",
            "Specific Hypothesis:  ['sunny' 'warm' 'normal' 'strong' 'warm' 'same']\n",
            "General Hypothesis:  [['?', '?', '?', '?', '?', '?'], ['?', '?', '?', '?', '?', '?'], ['?', '?', '?', '?', '?', '?'], ['?', '?', '?', '?', '?', '?'], ['?', '?', '?', '?', '?', '?'], ['?', '?', '?', '?', '?', '?']]\n",
            "--------------------\n",
            "Step 1 :\n",
            "Specific Hypothesis:  ['sunny' 'warm' 'normal' 'strong' 'warm' 'same']\n",
            "General Hypothesis:  [['?', '?', '?', '?', '?', '?'], ['?', '?', '?', '?', '?', '?'], ['?', '?', '?', '?', '?', '?'], ['?', '?', '?', '?', '?', '?'], ['?', '?', '?', '?', '?', '?'], ['?', '?', '?', '?', '?', '?']]\n",
            "--------------------\n",
            "Step 2 :\n",
            "Specific Hypothesis:  ['sunny' 'warm' '?' 'strong' 'warm' 'same']\n",
            "General Hypothesis:  [['?', '?', '?', '?', '?', '?'], ['?', '?', '?', '?', '?', '?'], ['?', '?', '?', '?', '?', '?'], ['?', '?', '?', '?', '?', '?'], ['?', '?', '?', '?', '?', '?'], ['?', '?', '?', '?', '?', '?']]\n",
            "--------------------\n",
            "Step 3 :\n",
            "Specific Hypothesis:  ['sunny' 'warm' '?' 'strong' 'warm' 'same']\n",
            "General Hypothesis:  [['sunny', '?', '?', '?', '?', '?'], ['?', 'warm', '?', '?', '?', '?'], ['?', '?', '?', '?', '?', '?'], ['?', '?', '?', '?', '?', '?'], ['?', '?', '?', '?', '?', '?'], ['?', '?', '?', '?', '?', 'same']]\n",
            "--------------------\n",
            "Step 4 :\n",
            "Specific Hypothesis:  ['sunny' 'warm' '?' 'strong' '?' '?']\n",
            "General Hypothesis:  [['sunny', '?', '?', '?', '?', '?'], ['?', 'warm', '?', '?', '?', '?'], ['?', '?', '?', '?', '?', '?'], ['?', '?', '?', '?', '?', '?'], ['?', '?', '?', '?', '?', '?'], ['?', '?', '?', '?', '?', '?']]\n",
            "--------------------\n",
            "Final S:\n",
            "['sunny' 'warm' '?' 'strong' '?' '?']\n",
            "Final G:\n",
            "[['sunny', '?', '?', '?', '?', '?'], ['?', 'warm', '?', '?', '?', '?']]\n"
          ]
        }
      ]
    },
    {
      "cell_type": "code",
      "source": [
        "#2nd dataset"
      ],
      "metadata": {
        "id": "hiPOQqlHMYU8"
      },
      "execution_count": null,
      "outputs": []
    },
    {
      "cell_type": "code",
      "source": [
        "with open(\"/content/drive/MyDrive/ML-LAB-MD/buy.csv\") as f:\n",
        "    csv_file = csv.reader(f)\n",
        "    data = list(csv_file)\n",
        "\n",
        "    specific = data[2][:-1]\n",
        "    general = [['?' for i in range(len(specific))] for j in range(len(specific))]\n",
        "\n",
        "    for i in data:\n",
        "        if i[-1] == \"yes\":\n",
        "            for j in range(len(specific)):\n",
        "                if i[j] != specific[j]:\n",
        "                    specific[j] = \"?\"\n",
        "                    general[j][j] = \"?\"\n",
        "\n",
        "        elif i[-1] == \"no\":\n",
        "            for j in range(len(specific)):\n",
        "                if i[j] != specific[j]:\n",
        "                    general[j][j] = specific[j]\n",
        "                else:\n",
        "                    general[j][j] = \"?\"\n",
        "\n",
        "        print(\"\\nStep \" + str(data.index(i)) + \" of Candidate Elimination Algorithm\")\n",
        "        print(specific)\n",
        "        print(general)\n",
        "\n",
        "    gh = [] # gh = general Hypothesis\n",
        "    for i in general:\n",
        "        for j in i:\n",
        "            if j != '?':\n",
        "                gh.append(i)\n",
        "                break\n",
        "    print(\"\\nFinal Specific hypothesis:\\n\", specific)\n",
        "    print(\"\\nFinal General hypothesis:\\n\", gh)"
      ],
      "metadata": {
        "colab": {
          "base_uri": "https://localhost:8080/"
        },
        "id": "HZ3nd9PdMaOc",
        "outputId": "2b85fc20-285f-4f36-af80-29f3e2c73b95"
      },
      "execution_count": null,
      "outputs": [
        {
          "output_type": "stream",
          "name": "stdout",
          "text": [
            "\n",
            "Step 0 of Candidate Elimination Algorithm\n",
            "['many', 'big', 'no', 'expensive', 'one']\n",
            "[['?', '?', '?', '?', '?'], ['?', '?', '?', '?', '?'], ['?', '?', '?', '?', '?'], ['?', '?', '?', '?', '?'], ['?', '?', '?', '?', '?']]\n",
            "\n",
            "Step 1 of Candidate Elimination Algorithm\n",
            "['many', 'big', 'no', 'expensive', 'one']\n",
            "[['many', '?', '?', '?', '?'], ['?', 'big', '?', '?', '?'], ['?', '?', '?', '?', '?'], ['?', '?', '?', 'expensive', '?'], ['?', '?', '?', '?', 'one']]\n",
            "\n",
            "Step 2 of Candidate Elimination Algorithm\n",
            "['many', 'big', 'no', 'expensive', 'one']\n",
            "[['many', '?', '?', '?', '?'], ['?', 'big', '?', '?', '?'], ['?', '?', '?', '?', '?'], ['?', '?', '?', 'expensive', '?'], ['?', '?', '?', '?', 'one']]\n",
            "\n",
            "Step 3 of Candidate Elimination Algorithm\n",
            "['many', 'big', 'no', 'expensive', 'one']\n",
            "[['many', '?', '?', '?', '?'], ['?', '?', '?', '?', '?'], ['?', '?', 'no', '?', '?'], ['?', '?', '?', '?', '?'], ['?', '?', '?', '?', 'one']]\n",
            "\n",
            "Step 4 of Candidate Elimination Algorithm\n",
            "['many', '?', 'no', 'expensive', '?']\n",
            "[['many', '?', '?', '?', '?'], ['?', '?', '?', '?', '?'], ['?', '?', 'no', '?', '?'], ['?', '?', '?', '?', '?'], ['?', '?', '?', '?', '?']]\n",
            "\n",
            "Step 5 of Candidate Elimination Algorithm\n",
            "['many', '?', 'no', '?', '?']\n",
            "[['many', '?', '?', '?', '?'], ['?', '?', '?', '?', '?'], ['?', '?', 'no', '?', '?'], ['?', '?', '?', '?', '?'], ['?', '?', '?', '?', '?']]\n",
            "\n",
            "Final Specific hypothesis:\n",
            " ['many', '?', 'no', '?', '?']\n",
            "\n",
            "Final General hypothesis:\n",
            " [['many', '?', '?', '?', '?'], ['?', '?', 'no', '?', '?']]\n"
          ]
        }
      ]
    },
    {
      "cell_type": "code",
      "source": [
        "data = pd.DataFrame(data=pd.read_csv('/content/drive/MyDrive/ML-LAB-MD/buy.csv'))\n",
        "print(data,\"\\n\")\n",
        "concepts = np.array(data.iloc[:,0:-1])\n",
        "print(\"The attributes are: \",concepts)\n",
        "target = np.array(data.iloc[:,-1])\n",
        "print(\"\\n The target is: \",target)"
      ],
      "metadata": {
        "colab": {
          "base_uri": "https://localhost:8080/"
        },
        "id": "dxyRTfudMtps",
        "outputId": "dddbed47-2a7b-4f4b-b3ee-e7a1d8ec1cee"
      },
      "execution_count": null,
      "outputs": [
        {
          "output_type": "stream",
          "name": "stdout",
          "text": [
            "  citations    size inLibrary       price editions  buy\n",
            "0      some   small        no  affordable     many   no\n",
            "1      many     big        no   expensive      one  yes\n",
            "2      some     big    always   expensive      few   no\n",
            "3      many  medium        no   expensive     many  yes\n",
            "4      many   small        no  affordable     many  yes \n",
            "\n",
            "The attributes are:  [['some' 'small' 'no' 'affordable' 'many']\n",
            " ['many' 'big' 'no' 'expensive' 'one']\n",
            " ['some' 'big' 'always' 'expensive' 'few']\n",
            " ['many' 'medium' 'no' 'expensive' 'many']\n",
            " ['many' 'small' 'no' 'affordable' 'many']]\n",
            "\n",
            " The target is:  ['no' 'yes' 'no' 'yes' 'yes']\n"
          ]
        }
      ]
    },
    {
      "cell_type": "code",
      "source": [
        "def learn(concepts, target):\n",
        "    specific_h = concepts[1].copy()\n",
        "    general_h = [[\"?\" for i in range(len(specific_h))] for i in range(len(specific_h))]\n",
        "    print(\"Step 0:\")\n",
        "    print(\"Specific Hypothesis: \", specific_h)\n",
        "    print(\"General Hypothesis: \", general_h)\n",
        "    print(\"--------------------\")\n",
        "    for i, h in enumerate(concepts):\n",
        "        print(target[0])\n",
        "        if target[i] == \"yes\":\n",
        "            for x in range(len(specific_h)):\n",
        "                if h[x] != specific_h[x]:\n",
        "                    specific_h[x] = '?'\n",
        "                    general_h[x][x] = '?'\n",
        "        if target[i] == \"no\":\n",
        "            for x in range(len(specific_h)):\n",
        "                if h[x] != specific_h[x]:\n",
        "                    general_h[x][x] = specific_h[x]\n",
        "                else:\n",
        "                    general_h[x][x] = '?'\n",
        "        print(\"Step\", i+1, \":\")\n",
        "        print(\"Specific Hypothesis: \", specific_h)\n",
        "        print(\"General Hypothesis: \", general_h)\n",
        "        print(\"--------------------\")\n",
        "    indices = [i for i,val in enumerate(general_h) if val == ['?', '?', '?', '?', '?', '?']]\n",
        "    for i in indices:\n",
        "        general_h.remove(['?', '?', '?', '?', '?', '?'])\n",
        "    return specific_h, general_h\n",
        "\n",
        "\n",
        "s_final, g_final = learn(concepts, target)\n",
        "print(\"Final S:\", s_final, sep=\"\\n\")\n",
        "print(\"Final G:\", g_final, sep=\"\\n\")\n"
      ],
      "metadata": {
        "colab": {
          "base_uri": "https://localhost:8080/"
        },
        "id": "Zc7OtobOM_9E",
        "outputId": "37613a07-e8f8-4f73-e96c-f13cc4e69b33"
      },
      "execution_count": null,
      "outputs": [
        {
          "output_type": "stream",
          "name": "stdout",
          "text": [
            "Step 0:\n",
            "Specific Hypothesis:  ['many' 'big' 'no' 'expensive' 'one']\n",
            "General Hypothesis:  [['?', '?', '?', '?', '?'], ['?', '?', '?', '?', '?'], ['?', '?', '?', '?', '?'], ['?', '?', '?', '?', '?'], ['?', '?', '?', '?', '?']]\n",
            "--------------------\n",
            "no\n",
            "Step 1 :\n",
            "Specific Hypothesis:  ['many' 'big' 'no' 'expensive' 'one']\n",
            "General Hypothesis:  [['many', '?', '?', '?', '?'], ['?', 'big', '?', '?', '?'], ['?', '?', '?', '?', '?'], ['?', '?', '?', 'expensive', '?'], ['?', '?', '?', '?', 'one']]\n",
            "--------------------\n",
            "no\n",
            "Step 2 :\n",
            "Specific Hypothesis:  ['many' 'big' 'no' 'expensive' 'one']\n",
            "General Hypothesis:  [['many', '?', '?', '?', '?'], ['?', 'big', '?', '?', '?'], ['?', '?', '?', '?', '?'], ['?', '?', '?', 'expensive', '?'], ['?', '?', '?', '?', 'one']]\n",
            "--------------------\n",
            "no\n",
            "Step 3 :\n",
            "Specific Hypothesis:  ['many' 'big' 'no' 'expensive' 'one']\n",
            "General Hypothesis:  [['many', '?', '?', '?', '?'], ['?', '?', '?', '?', '?'], ['?', '?', 'no', '?', '?'], ['?', '?', '?', '?', '?'], ['?', '?', '?', '?', 'one']]\n",
            "--------------------\n",
            "no\n",
            "Step 4 :\n",
            "Specific Hypothesis:  ['many' '?' 'no' 'expensive' '?']\n",
            "General Hypothesis:  [['many', '?', '?', '?', '?'], ['?', '?', '?', '?', '?'], ['?', '?', 'no', '?', '?'], ['?', '?', '?', '?', '?'], ['?', '?', '?', '?', '?']]\n",
            "--------------------\n",
            "no\n",
            "Step 5 :\n",
            "Specific Hypothesis:  ['many' '?' 'no' '?' '?']\n",
            "General Hypothesis:  [['many', '?', '?', '?', '?'], ['?', '?', '?', '?', '?'], ['?', '?', 'no', '?', '?'], ['?', '?', '?', '?', '?'], ['?', '?', '?', '?', '?']]\n",
            "--------------------\n",
            "Final S:\n",
            "['many' '?' 'no' '?' '?']\n",
            "Final G:\n",
            "[['many', '?', '?', '?', '?'], ['?', '?', '?', '?', '?'], ['?', '?', 'no', '?', '?'], ['?', '?', '?', '?', '?'], ['?', '?', '?', '?', '?']]\n"
          ]
        }
      ]
    },
    {
      "cell_type": "markdown",
      "source": [
        "CANDIDATE WITH ACCURACY\n"
      ],
      "metadata": {
        "id": "3zIaowd5Dmbf"
      }
    },
    {
      "cell_type": "code",
      "source": [
        "import numpy as np\n",
        "import pandas as pd\n",
        "import csv\n",
        "\n",
        "from google.colab import drive\n",
        "drive.mount('/content/drive')\n",
        "\n",
        "data = pd.DataFrame(data=pd.read_csv('/content/drive/MyDrive/ML-LAB-MD/enjoySportMD.csv'))\n",
        "print(data,\"\\n\")\n",
        "\n",
        "concepts = np.array(data.iloc[:,0:-1])\n",
        "print(\"The attributes are: \",concepts)\n",
        "target = np.array(data.iloc[:,-1])\n",
        "print(\"\\nThe target is: \",target)\n",
        "\n",
        "with open(\"/content/drive/MyDrive/ML-LAB-MD/enjoySportMD.csv\") as f:\n",
        "    csv_file = csv.reader(f)\n",
        "    data = list(csv_file)\n",
        "\n",
        "    specific = data[1][:-1]\n",
        "    general = [['?' for i in range(len(specific))] for j in range(len(specific))]\n",
        "\n",
        "    for i in data:\n",
        "        if i[-1] == \"Yes\":\n",
        "            for j in range(len(specific)):\n",
        "                if i[j] != specific[j]:\n",
        "                    specific[j] = \"?\"\n",
        "                    general[j][j] = \"?\"\n",
        "\n",
        "        elif i[-1] == \"No\":\n",
        "            for j in range(len(specific)):\n",
        "                if i[j] != specific[j]:\n",
        "                    general[j][j] = specific[j]\n",
        "                else:\n",
        "                    general[j][j] = \"?\"\n",
        "\n",
        "        print(\"\\nStep \" + str(data.index(i)) + \" of Candidate Elimination Algorithm\")\n",
        "        print(specific)\n",
        "        print(general)\n",
        "\n",
        "    gh = []  # gh = general Hypothesis\n",
        "    for i in general:\n",
        "        for j in i:\n",
        "            if j != '?':\n",
        "                gh.append(i)\n",
        "                break\n",
        "    print(\"\\nFinal Specific hypothesis:\\n\", specific)\n",
        "    print(\"\\nFinal General hypothesis:\\n\", gh)\n",
        "\n",
        "    def predict(instance, specific_hypothesis, general_hypotheses):\n",
        "        for i in range(len(specific_hypothesis)):\n",
        "            if specific_hypothesis[i] != '?' and specific_hypothesis[i] != instance[i]:\n",
        "                return \"No\"\n",
        "\n",
        "        for gh in general_hypotheses:\n",
        "            match = True\n",
        "            for i in range(len(gh)):\n",
        "                if gh[i] != '?' and gh[i] != instance[i]:\n",
        "                    match = False\n",
        "                    break\n",
        "            if match:\n",
        "                return \"Yes\"\n",
        "\n",
        "        return \"Unknown\"\n",
        "\n",
        "    predicted_targets = []\n",
        "    for instance in concepts:\n",
        "        prediction = predict(instance, specific, gh)\n",
        "        predicted_targets.append(prediction)\n",
        "\n",
        "    def calculate_accuracy(actual, predicted):\n",
        "        correct = sum(1 for a, p in zip(actual, predicted) if a == p)\n",
        "        total = len(actual)\n",
        "        accuracy = correct / total * 100\n",
        "        return accuracy\n",
        "\n",
        "    accuracy = calculate_accuracy(target, predicted_targets)\n",
        "    print(\"\\nAccuracy:\", accuracy)\n"
      ],
      "metadata": {
        "id": "NUqpWSKDNArb",
        "colab": {
          "base_uri": "https://localhost:8080/"
        },
        "outputId": "1cf6964e-cf1b-4dd3-acf6-2ed136c933dc"
      },
      "execution_count": 2,
      "outputs": [
        {
          "output_type": "stream",
          "name": "stdout",
          "text": [
            "Drive already mounted at /content/drive; to attempt to forcibly remount, call drive.mount(\"/content/drive\", force_remount=True).\n",
            "     sky  temp humidity    wind water forecast enjoy_sport enjoy_sport.1\n",
            "0  sunny  warm   normal  strong  warm     same         yes           yes\n",
            "1  sunny  warm     high  strong  warm     same         yes           yes\n",
            "2  rainy  cold     high  strong  warm   change          no            no\n",
            "3  sunny  warm     high  strong  cool   change         yes           yes \n",
            "\n",
            "The attributes are:  [['sunny' 'warm' 'normal' 'strong' 'warm' 'same' 'yes']\n",
            " ['sunny' 'warm' 'high' 'strong' 'warm' 'same' 'yes']\n",
            " ['rainy' 'cold' 'high' 'strong' 'warm' 'change' 'no']\n",
            " ['sunny' 'warm' 'high' 'strong' 'cool' 'change' 'yes']]\n",
            "\n",
            "The target is:  ['yes' 'yes' 'no' 'yes']\n",
            "\n",
            "Step 0 of Candidate Elimination Algorithm\n",
            "['sunny', 'warm', 'normal', 'strong', 'warm', 'same', 'yes']\n",
            "[['?', '?', '?', '?', '?', '?', '?'], ['?', '?', '?', '?', '?', '?', '?'], ['?', '?', '?', '?', '?', '?', '?'], ['?', '?', '?', '?', '?', '?', '?'], ['?', '?', '?', '?', '?', '?', '?'], ['?', '?', '?', '?', '?', '?', '?'], ['?', '?', '?', '?', '?', '?', '?']]\n",
            "\n",
            "Step 1 of Candidate Elimination Algorithm\n",
            "['sunny', 'warm', 'normal', 'strong', 'warm', 'same', 'yes']\n",
            "[['?', '?', '?', '?', '?', '?', '?'], ['?', '?', '?', '?', '?', '?', '?'], ['?', '?', '?', '?', '?', '?', '?'], ['?', '?', '?', '?', '?', '?', '?'], ['?', '?', '?', '?', '?', '?', '?'], ['?', '?', '?', '?', '?', '?', '?'], ['?', '?', '?', '?', '?', '?', '?']]\n",
            "\n",
            "Step 2 of Candidate Elimination Algorithm\n",
            "['sunny', 'warm', 'normal', 'strong', 'warm', 'same', 'yes']\n",
            "[['?', '?', '?', '?', '?', '?', '?'], ['?', '?', '?', '?', '?', '?', '?'], ['?', '?', '?', '?', '?', '?', '?'], ['?', '?', '?', '?', '?', '?', '?'], ['?', '?', '?', '?', '?', '?', '?'], ['?', '?', '?', '?', '?', '?', '?'], ['?', '?', '?', '?', '?', '?', '?']]\n",
            "\n",
            "Step 3 of Candidate Elimination Algorithm\n",
            "['sunny', 'warm', 'normal', 'strong', 'warm', 'same', 'yes']\n",
            "[['?', '?', '?', '?', '?', '?', '?'], ['?', '?', '?', '?', '?', '?', '?'], ['?', '?', '?', '?', '?', '?', '?'], ['?', '?', '?', '?', '?', '?', '?'], ['?', '?', '?', '?', '?', '?', '?'], ['?', '?', '?', '?', '?', '?', '?'], ['?', '?', '?', '?', '?', '?', '?']]\n",
            "\n",
            "Step 4 of Candidate Elimination Algorithm\n",
            "['sunny', 'warm', 'normal', 'strong', 'warm', 'same', 'yes']\n",
            "[['?', '?', '?', '?', '?', '?', '?'], ['?', '?', '?', '?', '?', '?', '?'], ['?', '?', '?', '?', '?', '?', '?'], ['?', '?', '?', '?', '?', '?', '?'], ['?', '?', '?', '?', '?', '?', '?'], ['?', '?', '?', '?', '?', '?', '?'], ['?', '?', '?', '?', '?', '?', '?']]\n",
            "\n",
            "Final Specific hypothesis:\n",
            " ['sunny', 'warm', 'normal', 'strong', 'warm', 'same', 'yes']\n",
            "\n",
            "Final General hypothesis:\n",
            " []\n",
            "\n",
            "Accuracy: 0.0\n"
          ]
        }
      ]
    },
    {
      "cell_type": "code",
      "source": [],
      "metadata": {
        "id": "EvfbAi_8Dyhy"
      },
      "execution_count": null,
      "outputs": []
    }
  ]
}